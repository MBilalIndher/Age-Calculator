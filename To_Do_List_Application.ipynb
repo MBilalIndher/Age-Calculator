{
  "nbformat": 4,
  "nbformat_minor": 0,
  "metadata": {
    "colab": {
      "provenance": [],
      "authorship_tag": "ABX9TyM5JuqE71wIB8An1a57Fu/6",
      "include_colab_link": true
    },
    "kernelspec": {
      "name": "python3",
      "display_name": "Python 3"
    },
    "language_info": {
      "name": "python"
    }
  },
  "cells": [
    {
      "cell_type": "markdown",
      "metadata": {
        "id": "view-in-github",
        "colab_type": "text"
      },
      "source": [
        "<a href=\"https://colab.research.google.com/github/MBilalIndher/Age-Calculator/blob/main/To_Do_List_Application.ipynb\" target=\"_parent\"><img src=\"https://colab.research.google.com/assets/colab-badge.svg\" alt=\"Open In Colab\"/></a>"
      ]
    },
    {
      "cell_type": "code",
      "source": [
        "# Multi-List To-Do Application\n",
        "\n",
        "todo_list = {}\n",
        "\n",
        "while True:\n",
        "   print(\"Options:\")\n",
        "   print(\"1. Creat a new todo list\")\n",
        "   print(\"2. Add a new task\")\n",
        "   print(\"3. View task in a list\")\n",
        "   print(\"4. Exit\")\n",
        "\n",
        "   choice = input(\"Enter your choice:\")\n",
        "\n",
        "   if choice == \"1\":\n",
        "       list_name = input(\"Enter the name of new to-do list: \")\n",
        "       todo_list[list_name] = []\n",
        "       print(f\"To-do list '{list_name}' created successfully!\")\n",
        "\n",
        "   elif choice == \"2\":\n",
        "        list_name = input(\"Enter the list name: \")\n",
        "        if list_name in todo_list:\n",
        "             task = input(\"Enter a new task: \")\n",
        "             todo_list[list_name].append(task)\n",
        "             print(f\"Task  '{task}' added to list '{list_name}'. \")\n",
        "        else:\n",
        "             print(f\"No list named '{list_name}' found.\")\n",
        "\n",
        "   elif choice == \"3\":\n",
        "        List_name = input(\"Enter the list name: \")\n",
        "        if list_name in todo_list:\n",
        "             print(f\"Tasks in '{list_name}':\")\n",
        "             for i, task in enumerate(todo_list[list_name], start=1):\n",
        "                        print(f\"{i}. {task}\")\n",
        "        else:\n",
        "             print(f\"No List named '{list_name}' found.\")\n",
        "\n",
        "   elif choice == \"4\":\n",
        "             print(\"Exiting the application, Goodbye! \")\n",
        "             break\n",
        "\n",
        "   else:\n",
        "             print(\"Invalid choice. Please choose a valid option. \")"
      ],
      "metadata": {
        "colab": {
          "base_uri": "https://localhost:8080/"
        },
        "id": "xsuYXP1Kb1s8",
        "outputId": "7c01b8e0-4259-44ab-f777-b27b4c6c7d53"
      },
      "execution_count": 5,
      "outputs": [
        {
          "output_type": "stream",
          "name": "stdout",
          "text": [
            "Options:\n",
            "1. Creat a new todo list\n",
            "2. Add a new task\n",
            "3. View task in a list\n",
            "4. Exit\n",
            "Enter your choice:1\n",
            "Enter the name of new to-do list: hi\n",
            "To-do list 'hi' created successfully!\n",
            "Options:\n",
            "1. Creat a new todo list\n",
            "2. Add a new task\n",
            "3. View task in a list\n",
            "4. Exit\n",
            "Enter your choice:2\n",
            "Enter the list name: hi\n",
            "Enter a new task: swim\n",
            "Task  'swim' added to list 'hi'. \n",
            "Options:\n",
            "1. Creat a new todo list\n",
            "2. Add a new task\n",
            "3. View task in a list\n",
            "4. Exit\n",
            "Enter your choice:3\n",
            "Enter the list name: hi\n",
            "Tasks in 'hi':\n",
            "1. swim\n",
            "Options:\n",
            "1. Creat a new todo list\n",
            "2. Add a new task\n",
            "3. View task in a list\n",
            "4. Exit\n",
            "Enter your choice:4\n",
            "Exiting the application, Goodbye! \n"
          ]
        }
      ]
    }
  ]
}